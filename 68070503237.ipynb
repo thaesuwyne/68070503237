{
 "cells": [
  {
   "cell_type": "code",
   "execution_count": 14,
   "id": "1f06dd54",
   "metadata": {},
   "outputs": [
    {
     "name": "stdout",
     "output_type": "stream",
     "text": [
      "0, is even\n",
      "1, is odd\n",
      "2, is even\n",
      "3, is odd\n",
      "4, is even\n"
     ]
    }
   ],
   "source": [
    "n = 5\n",
    "for i in range(n):\n",
    "  if i % 2 == 0:\n",
    "    print(f\"{i}, is even\")\n",
    "  else:\n",
    "    print(f\"{i}, is odd\")"
   ]
  },
  {
   "cell_type": "markdown",
   "id": "691750a0",
   "metadata": {},
   "source": [
    "2.Multiplication \n",
    "-define n (n = 5)\n",
    "-Use a loop from 1 to 10\n",
    "-if the result of multiplication (num*i) is greater than 50 => print (\"The result is large\")\n",
    "-otherwise, print the actual result ==> print (\"Result=\", result)"
   ]
  },
  {
   "cell_type": "code",
   "execution_count": 24,
   "id": "4a7fa4ba",
   "metadata": {},
   "outputs": [
    {
     "name": "stdout",
     "output_type": "stream",
     "text": [
      "Result = 9\n",
      "Result = 18\n",
      "Result = 27\n",
      "Result = 36\n",
      "Result = 45\n",
      "Result is large\n",
      "Result is large\n",
      "Result is large\n",
      "Result is large\n",
      "Result is large\n"
     ]
    }
   ],
   "source": [
    "n = 9\n",
    "for i in range (1,11):\n",
    "    result = n * i\n",
    "    if result > 50:\n",
    "        print(\"Result is large\")\n",
    "    else:\n",
    "        print(\"Result =\", result)\n"
   ]
  },
  {
   "cell_type": "markdown",
   "id": "6d361d6e",
   "metadata": {},
   "source": [
    "3.Skipping the special numbers\n",
    "\n",
    "define n\n",
    "loop numbers from 1 to n\n",
    "if the number is divisible 4 ==> skip it with continue\n",
    "if the number is greater than 20 ==> stop the loop with break\n",
    "otherwise --> print the number"
   ]
  },
  {
   "cell_type": "code",
   "execution_count": 30,
   "id": "a3d768d2",
   "metadata": {},
   "outputs": [
    {
     "name": "stdout",
     "output_type": "stream",
     "text": [
      "1\n",
      "2\n",
      "3\n",
      "5\n",
      "6\n",
      "7\n",
      "9\n",
      "10\n",
      "11\n",
      "13\n",
      "14\n",
      "15\n"
     ]
    }
   ],
   "source": [
    "n = 15\n",
    "for i in range(1, n+1):\n",
    "   if i % 4 == 0:\n",
    "    continue\n",
    "   if i > 20:\n",
    "     break\n",
    "   print (i)"
   ]
  },
  {
   "cell_type": "markdown",
   "id": "275a7e9e",
   "metadata": {},
   "source": [
    "4.Guess the number\n",
    "The secret number is 777.\n",
    "-Ask the user to guess until thry get it right,\n",
    "-if the guess is wrong, print \"Try Again' and ask the user again.\n",
    "-if the guess is correct, print \"You got it\" and stop tghe loop."
   ]
  },
  {
   "cell_type": "code",
   "execution_count": null,
   "id": "55129642",
   "metadata": {},
   "outputs": [
    {
     "name": "stdout",
     "output_type": "stream",
     "text": [
      "Try again\n",
      "Try again\n",
      "You got it\n"
     ]
    },
    {
     "ename": "KeyboardInterrupt",
     "evalue": "Interrupted by user",
     "output_type": "error",
     "traceback": [
      "\u001b[1;31m---------------------------------------------------------------------------\u001b[0m",
      "\u001b[1;31mKeyboardInterrupt\u001b[0m                         Traceback (most recent call last)",
      "Cell \u001b[1;32mIn[5], line 2\u001b[0m\n\u001b[0;32m      1\u001b[0m secret \u001b[38;5;241m=\u001b[39m \u001b[38;5;241m777\u001b[39m\n\u001b[1;32m----> 2\u001b[0m guess \u001b[38;5;241m=\u001b[39m \u001b[38;5;28mint\u001b[39m(\u001b[38;5;28;43minput\u001b[39;49m\u001b[43m(\u001b[49m\u001b[38;5;124;43m\"\u001b[39;49m\u001b[38;5;124;43mGuess three digit lucky number from 000 to 999\u001b[39;49m\u001b[38;5;124;43m\"\u001b[39;49m\u001b[43m)\u001b[49m)\n\u001b[0;32m      3\u001b[0m \u001b[38;5;28;01mwhile\u001b[39;00m guess\u001b[38;5;241m!=\u001b[39msecret:\n\u001b[0;32m      4\u001b[0m     \u001b[38;5;28mprint\u001b[39m(\u001b[38;5;124m\"\u001b[39m\u001b[38;5;124mTry again\u001b[39m\u001b[38;5;124m\"\u001b[39m)  \n",
      "File \u001b[1;32mc:\\Users\\User\\AppData\\Local\\Programs\\Python\\Python312\\Lib\\site-packages\\ipykernel\\kernelbase.py:1282\u001b[0m, in \u001b[0;36mKernel.raw_input\u001b[1;34m(self, prompt)\u001b[0m\n\u001b[0;32m   1280\u001b[0m     msg \u001b[38;5;241m=\u001b[39m \u001b[38;5;124m\"\u001b[39m\u001b[38;5;124mraw_input was called, but this frontend does not support input requests.\u001b[39m\u001b[38;5;124m\"\u001b[39m\n\u001b[0;32m   1281\u001b[0m     \u001b[38;5;28;01mraise\u001b[39;00m StdinNotImplementedError(msg)\n\u001b[1;32m-> 1282\u001b[0m \u001b[38;5;28;01mreturn\u001b[39;00m \u001b[38;5;28;43mself\u001b[39;49m\u001b[38;5;241;43m.\u001b[39;49m\u001b[43m_input_request\u001b[49m\u001b[43m(\u001b[49m\n\u001b[0;32m   1283\u001b[0m \u001b[43m    \u001b[49m\u001b[38;5;28;43mstr\u001b[39;49m\u001b[43m(\u001b[49m\u001b[43mprompt\u001b[49m\u001b[43m)\u001b[49m\u001b[43m,\u001b[49m\n\u001b[0;32m   1284\u001b[0m \u001b[43m    \u001b[49m\u001b[38;5;28;43mself\u001b[39;49m\u001b[38;5;241;43m.\u001b[39;49m\u001b[43m_parent_ident\u001b[49m\u001b[43m[\u001b[49m\u001b[38;5;124;43m\"\u001b[39;49m\u001b[38;5;124;43mshell\u001b[39;49m\u001b[38;5;124;43m\"\u001b[39;49m\u001b[43m]\u001b[49m\u001b[43m,\u001b[49m\n\u001b[0;32m   1285\u001b[0m \u001b[43m    \u001b[49m\u001b[38;5;28;43mself\u001b[39;49m\u001b[38;5;241;43m.\u001b[39;49m\u001b[43mget_parent\u001b[49m\u001b[43m(\u001b[49m\u001b[38;5;124;43m\"\u001b[39;49m\u001b[38;5;124;43mshell\u001b[39;49m\u001b[38;5;124;43m\"\u001b[39;49m\u001b[43m)\u001b[49m\u001b[43m,\u001b[49m\n\u001b[0;32m   1286\u001b[0m \u001b[43m    \u001b[49m\u001b[43mpassword\u001b[49m\u001b[38;5;241;43m=\u001b[39;49m\u001b[38;5;28;43;01mFalse\u001b[39;49;00m\u001b[43m,\u001b[49m\n\u001b[0;32m   1287\u001b[0m \u001b[43m\u001b[49m\u001b[43m)\u001b[49m\n",
      "File \u001b[1;32mc:\\Users\\User\\AppData\\Local\\Programs\\Python\\Python312\\Lib\\site-packages\\ipykernel\\kernelbase.py:1325\u001b[0m, in \u001b[0;36mKernel._input_request\u001b[1;34m(self, prompt, ident, parent, password)\u001b[0m\n\u001b[0;32m   1322\u001b[0m \u001b[38;5;28;01mexcept\u001b[39;00m \u001b[38;5;167;01mKeyboardInterrupt\u001b[39;00m:\n\u001b[0;32m   1323\u001b[0m     \u001b[38;5;66;03m# re-raise KeyboardInterrupt, to truncate traceback\u001b[39;00m\n\u001b[0;32m   1324\u001b[0m     msg \u001b[38;5;241m=\u001b[39m \u001b[38;5;124m\"\u001b[39m\u001b[38;5;124mInterrupted by user\u001b[39m\u001b[38;5;124m\"\u001b[39m\n\u001b[1;32m-> 1325\u001b[0m     \u001b[38;5;28;01mraise\u001b[39;00m \u001b[38;5;167;01mKeyboardInterrupt\u001b[39;00m(msg) \u001b[38;5;28;01mfrom\u001b[39;00m \u001b[38;5;28;01mNone\u001b[39;00m\n\u001b[0;32m   1326\u001b[0m \u001b[38;5;28;01mexcept\u001b[39;00m \u001b[38;5;167;01mException\u001b[39;00m:\n\u001b[0;32m   1327\u001b[0m     \u001b[38;5;28mself\u001b[39m\u001b[38;5;241m.\u001b[39mlog\u001b[38;5;241m.\u001b[39mwarning(\u001b[38;5;124m\"\u001b[39m\u001b[38;5;124mInvalid Message:\u001b[39m\u001b[38;5;124m\"\u001b[39m, exc_info\u001b[38;5;241m=\u001b[39m\u001b[38;5;28;01mTrue\u001b[39;00m)\n",
      "\u001b[1;31mKeyboardInterrupt\u001b[0m: Interrupted by user"
     ]
    }
   ],
   "source": [
    "secret = 777\n",
    "guess = int(input(\"Guess three digit lucky number from 000 to 999\"))\n",
    "while guess!=secret:\n",
    "    print(\"Try again\")  \n",
    "    guess = int(input(\"Guess three digit lucky number from 000 to 999\"))\n",
    "\n",
    "print(\"You got it\")\n",
    "    \n",
    "\n",
    "\n",
    "    \n"
   ]
  },
  {
   "cell_type": "markdown",
   "id": "3d5a56e7",
   "metadata": {},
   "source": [
    "5.Shopping Cart Checkout System\n",
    "\n",
    "Use initial variable total_bill=0\n",
    "Ask user to add price and add the price in total_bill.\n",
    "If total_bill>1000, print (\"limit reached. You cannot buy anymore\" and break the loop)\n",
    "Otherwise ask user to add price\n"
   ]
  },
  {
   "cell_type": "code",
   "execution_count": 11,
   "id": "7028039e",
   "metadata": {},
   "outputs": [
    {
     "name": "stdout",
     "output_type": "stream",
     "text": [
      "Limit Reached\n"
     ]
    }
   ],
   "source": [
    "total_bill = 0\n",
    "add_price = float(input(\"Add Price\"))\n",
    "total_bill += add_price\n",
    "while total_bill<=1000:\n",
    "  add_price = float(input(\"Add Price\"))\n",
    "  total_bill += add_price\n",
    "print(\"Limit Reached\")\n",
    "\n"
   ]
  }
 ],
 "metadata": {
  "kernelspec": {
   "display_name": "Python 3",
   "language": "python",
   "name": "python3"
  },
  "language_info": {
   "codemirror_mode": {
    "name": "ipython",
    "version": 3
   },
   "file_extension": ".py",
   "mimetype": "text/x-python",
   "name": "python",
   "nbconvert_exporter": "python",
   "pygments_lexer": "ipython3",
   "version": "3.12.6"
  }
 },
 "nbformat": 4,
 "nbformat_minor": 5
}
